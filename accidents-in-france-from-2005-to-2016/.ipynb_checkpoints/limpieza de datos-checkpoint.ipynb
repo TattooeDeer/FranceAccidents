{
 "cells": [
  {
   "cell_type": "code",
   "execution_count": 1,
   "metadata": {
    "scrolled": false
   },
   "outputs": [
    {
     "ename": "ConnectionResetError",
     "evalue": "[Errno 104] Connection reset by peer",
     "output_type": "error",
     "traceback": [
      "\u001b[0;31m---------------------------------------------------------------------------\u001b[0m",
      "\u001b[0;31mConnectionResetError\u001b[0m                      Traceback (most recent call last)",
      "\u001b[0;32m<ipython-input-1-d7e34155643f>\u001b[0m in \u001b[0;36m<module>\u001b[0;34m\u001b[0m\n\u001b[1;32m      4\u001b[0m \u001b[0mconnection\u001b[0m \u001b[0;34m=\u001b[0m \u001b[0mhappybase\u001b[0m\u001b[0;34m.\u001b[0m\u001b[0mConnection\u001b[0m\u001b[0;34m(\u001b[0m\u001b[0;34m'localhost'\u001b[0m\u001b[0;34m)\u001b[0m\u001b[0;34m\u001b[0m\u001b[0;34m\u001b[0m\u001b[0m\n\u001b[1;32m      5\u001b[0m \u001b[0mconnection\u001b[0m\u001b[0;34m.\u001b[0m\u001b[0mopen\u001b[0m\u001b[0;34m(\u001b[0m\u001b[0;34m)\u001b[0m\u001b[0;34m\u001b[0m\u001b[0;34m\u001b[0m\u001b[0m\n\u001b[0;32m----> 6\u001b[0;31m \u001b[0mprint\u001b[0m\u001b[0;34m(\u001b[0m\u001b[0mconnection\u001b[0m\u001b[0;34m.\u001b[0m\u001b[0mtables\u001b[0m\u001b[0;34m(\u001b[0m\u001b[0;34m)\u001b[0m\u001b[0;34m)\u001b[0m\u001b[0;34m\u001b[0m\u001b[0;34m\u001b[0m\u001b[0m\n\u001b[0m",
      "\u001b[0;32m~/anaconda3/lib/python3.7/site-packages/happybase/connection.py\u001b[0m in \u001b[0;36mtables\u001b[0;34m(self)\u001b[0m\n\u001b[1;32m    240\u001b[0m         \u001b[0;34m:\u001b[0m\u001b[0mrtype\u001b[0m\u001b[0;34m:\u001b[0m \u001b[0mList\u001b[0m \u001b[0mof\u001b[0m \u001b[0mstrings\u001b[0m\u001b[0;34m\u001b[0m\u001b[0;34m\u001b[0m\u001b[0m\n\u001b[1;32m    241\u001b[0m         \"\"\"\n\u001b[0;32m--> 242\u001b[0;31m         \u001b[0mnames\u001b[0m \u001b[0;34m=\u001b[0m \u001b[0mself\u001b[0m\u001b[0;34m.\u001b[0m\u001b[0mclient\u001b[0m\u001b[0;34m.\u001b[0m\u001b[0mgetTableNames\u001b[0m\u001b[0;34m(\u001b[0m\u001b[0;34m)\u001b[0m\u001b[0;34m\u001b[0m\u001b[0;34m\u001b[0m\u001b[0m\n\u001b[0m\u001b[1;32m    243\u001b[0m \u001b[0;34m\u001b[0m\u001b[0m\n\u001b[1;32m    244\u001b[0m         \u001b[0;31m# Filter using prefix, and strip prefix from names\u001b[0m\u001b[0;34m\u001b[0m\u001b[0;34m\u001b[0m\u001b[0;34m\u001b[0m\u001b[0m\n",
      "\u001b[0;32m~/anaconda3/lib/python3.7/site-packages/thriftpy/thrift.py\u001b[0m in \u001b[0;36m_req\u001b[0;34m(self, _api, *args, **kwargs)\u001b[0m\n\u001b[1;32m    196\u001b[0m         \u001b[0;31m# wait result only if non-oneway\u001b[0m\u001b[0;34m\u001b[0m\u001b[0;34m\u001b[0m\u001b[0;34m\u001b[0m\u001b[0m\n\u001b[1;32m    197\u001b[0m         \u001b[0;32mif\u001b[0m \u001b[0;32mnot\u001b[0m \u001b[0mgetattr\u001b[0m\u001b[0;34m(\u001b[0m\u001b[0mresult_cls\u001b[0m\u001b[0;34m,\u001b[0m \u001b[0;34m\"oneway\"\u001b[0m\u001b[0;34m)\u001b[0m\u001b[0;34m:\u001b[0m\u001b[0;34m\u001b[0m\u001b[0;34m\u001b[0m\u001b[0m\n\u001b[0;32m--> 198\u001b[0;31m             \u001b[0;32mreturn\u001b[0m \u001b[0mself\u001b[0m\u001b[0;34m.\u001b[0m\u001b[0m_recv\u001b[0m\u001b[0;34m(\u001b[0m\u001b[0m_api\u001b[0m\u001b[0;34m)\u001b[0m\u001b[0;34m\u001b[0m\u001b[0;34m\u001b[0m\u001b[0m\n\u001b[0m\u001b[1;32m    199\u001b[0m \u001b[0;34m\u001b[0m\u001b[0m\n\u001b[1;32m    200\u001b[0m     \u001b[0;32mdef\u001b[0m \u001b[0m_send\u001b[0m\u001b[0;34m(\u001b[0m\u001b[0mself\u001b[0m\u001b[0;34m,\u001b[0m \u001b[0m_api\u001b[0m\u001b[0;34m,\u001b[0m \u001b[0;34m**\u001b[0m\u001b[0mkwargs\u001b[0m\u001b[0;34m)\u001b[0m\u001b[0;34m:\u001b[0m\u001b[0;34m\u001b[0m\u001b[0;34m\u001b[0m\u001b[0m\n",
      "\u001b[0;32m~/anaconda3/lib/python3.7/site-packages/thriftpy/thrift.py\u001b[0m in \u001b[0;36m_recv\u001b[0;34m(self, _api)\u001b[0m\n\u001b[1;32m    208\u001b[0m \u001b[0;34m\u001b[0m\u001b[0m\n\u001b[1;32m    209\u001b[0m     \u001b[0;32mdef\u001b[0m \u001b[0m_recv\u001b[0m\u001b[0;34m(\u001b[0m\u001b[0mself\u001b[0m\u001b[0;34m,\u001b[0m \u001b[0m_api\u001b[0m\u001b[0;34m)\u001b[0m\u001b[0;34m:\u001b[0m\u001b[0;34m\u001b[0m\u001b[0;34m\u001b[0m\u001b[0m\n\u001b[0;32m--> 210\u001b[0;31m         \u001b[0mfname\u001b[0m\u001b[0;34m,\u001b[0m \u001b[0mmtype\u001b[0m\u001b[0;34m,\u001b[0m \u001b[0mrseqid\u001b[0m \u001b[0;34m=\u001b[0m \u001b[0mself\u001b[0m\u001b[0;34m.\u001b[0m\u001b[0m_iprot\u001b[0m\u001b[0;34m.\u001b[0m\u001b[0mread_message_begin\u001b[0m\u001b[0;34m(\u001b[0m\u001b[0;34m)\u001b[0m\u001b[0;34m\u001b[0m\u001b[0;34m\u001b[0m\u001b[0m\n\u001b[0m\u001b[1;32m    211\u001b[0m         \u001b[0;32mif\u001b[0m \u001b[0mmtype\u001b[0m \u001b[0;34m==\u001b[0m \u001b[0mTMessageType\u001b[0m\u001b[0;34m.\u001b[0m\u001b[0mEXCEPTION\u001b[0m\u001b[0;34m:\u001b[0m\u001b[0;34m\u001b[0m\u001b[0;34m\u001b[0m\u001b[0m\n\u001b[1;32m    212\u001b[0m             \u001b[0mx\u001b[0m \u001b[0;34m=\u001b[0m \u001b[0mTApplicationException\u001b[0m\u001b[0;34m(\u001b[0m\u001b[0;34m)\u001b[0m\u001b[0;34m\u001b[0m\u001b[0;34m\u001b[0m\u001b[0m\n",
      "\u001b[0;32mthriftpy/protocol/cybin/cybin.pyx\u001b[0m in \u001b[0;36mcybin.TCyBinaryProtocol.read_message_begin\u001b[0;34m()\u001b[0m\n",
      "\u001b[0;32mthriftpy/protocol/cybin/cybin.pyx\u001b[0m in \u001b[0;36mcybin.read_i32\u001b[0;34m()\u001b[0m\n",
      "\u001b[0;32mthriftpy/transport/buffered/cybuffered.pyx\u001b[0m in \u001b[0;36mthriftpy.transport.buffered.cybuffered.TCyBufferedTransport.c_read (thriftpy/transport/buffered/cybuffered.c:1881)\u001b[0;34m()\u001b[0m\n",
      "\u001b[0;32mthriftpy/transport/buffered/cybuffered.pyx\u001b[0m in \u001b[0;36mthriftpy.transport.buffered.cybuffered.TCyBufferedTransport.read_trans (thriftpy/transport/buffered/cybuffered.c:1948)\u001b[0;34m()\u001b[0m\n",
      "\u001b[0;32mthriftpy/transport/cybase.pyx\u001b[0m in \u001b[0;36mthriftpy.transport.cybase.TCyBuffer.read_trans\u001b[0;34m()\u001b[0m\n",
      "\u001b[0;32m~/anaconda3/lib/python3.7/site-packages/thriftpy/transport/socket.py\u001b[0m in \u001b[0;36mread\u001b[0;34m(self, sz)\u001b[0m\n\u001b[1;32m    106\u001b[0m     \u001b[0;32mdef\u001b[0m \u001b[0mread\u001b[0m\u001b[0;34m(\u001b[0m\u001b[0mself\u001b[0m\u001b[0;34m,\u001b[0m \u001b[0msz\u001b[0m\u001b[0;34m)\u001b[0m\u001b[0;34m:\u001b[0m\u001b[0;34m\u001b[0m\u001b[0;34m\u001b[0m\u001b[0m\n\u001b[1;32m    107\u001b[0m         \u001b[0;32mtry\u001b[0m\u001b[0;34m:\u001b[0m\u001b[0;34m\u001b[0m\u001b[0;34m\u001b[0m\u001b[0m\n\u001b[0;32m--> 108\u001b[0;31m             \u001b[0mbuff\u001b[0m \u001b[0;34m=\u001b[0m \u001b[0mself\u001b[0m\u001b[0;34m.\u001b[0m\u001b[0msock\u001b[0m\u001b[0;34m.\u001b[0m\u001b[0mrecv\u001b[0m\u001b[0;34m(\u001b[0m\u001b[0msz\u001b[0m\u001b[0;34m)\u001b[0m\u001b[0;34m\u001b[0m\u001b[0;34m\u001b[0m\u001b[0m\n\u001b[0m\u001b[1;32m    109\u001b[0m         \u001b[0;32mexcept\u001b[0m \u001b[0msocket\u001b[0m\u001b[0;34m.\u001b[0m\u001b[0merror\u001b[0m \u001b[0;32mas\u001b[0m \u001b[0me\u001b[0m\u001b[0;34m:\u001b[0m\u001b[0;34m\u001b[0m\u001b[0;34m\u001b[0m\u001b[0m\n\u001b[1;32m    110\u001b[0m             if (e.args[0] == errno.ECONNRESET and\n",
      "\u001b[0;31mConnectionResetError\u001b[0m: [Errno 104] Connection reset by peer"
     ]
    }
   ],
   "source": [
    "import json\n",
    "import happybase\n",
    "\n",
    "connection = happybase.Connection('localhost')\n",
    "connection.open()\n",
    "print(connection.tables())"
   ]
  },
  {
   "cell_type": "code",
   "execution_count": 65,
   "metadata": {},
   "outputs": [
    {
     "name": "stdout",
     "output_type": "stream",
     "text": [
      "b'row1' {b'stats:daily': b'test-daily-value', b'stats:weekly': b'test-weekly-value'}\n",
      "b'row2' {b'stats:weekly': b'test-weekly-value'}\n",
      "b'row3' {b'stats:daily': b'daily-row3'}\n"
     ]
    }
   ],
   "source": [
    "# print(connection.tables())\n",
    "\n",
    "# table = connection.table('tarea2BDA')\n",
    "table = connection.table(b'weblog')\n",
    "# row1 = table.row(b'row1')\n",
    "# print(row1)\n",
    "# row2 = table.row(b'row2')\n",
    "# print(row2)\n",
    "\n",
    "for key, data in table.scan():\n",
    "    print(key, data)\n",
    "\n",
    "# table.put(b'row3', {b'stats:daily': b'daily-row3'})\n",
    "\n",
    "# connection.create_table(\n",
    "#     'mytable',\n",
    "#     {'cf1': dict(max_versions=10),\n",
    "#      'cf2': dict(max_versions=1, block_cache_enabled=False),\n",
    "#      'cf3': dict(),  # use defaults\n",
    "#     }\n",
    "# )\n",
    "# print(connection.tables())\n",
    "\n",
    "\n",
    "\n",
    "# table.put(b'row-key', {b'family:qual1': b'value1', b'family:qual2': b'value2'})\n",
    "\n",
    "# row = table.row(b'row-key')\n",
    "# print(row[b'family:qual1'])  # prints 'value1'\n",
    "\n",
    "# for key, data in table.rows([b'row-key-1', b'row-key-2']):\n",
    "#     print(key, data)  # prints row key and data for each row\n",
    "\n",
    "# for key, data in table.scan(row_prefix=b'row'):\n",
    "#     print(key, data)  # prints 'value1' and 'value2'\n",
    "\n",
    "# row = table.delete(b'row-key')\n",
    "\n",
    "# row = table.rows()"
   ]
  },
  {
   "cell_type": "code",
   "execution_count": 54,
   "metadata": {},
   "outputs": [],
   "source": [
    "connection.close()"
   ]
  },
  {
   "cell_type": "markdown",
   "metadata": {},
   "source": [
    "## Preguntas"
   ]
  },
  {
   "cell_type": "markdown",
   "metadata": {},
   "source": [
    "* ¿Qué relaciones existen entre la edad de los peatones su localización/acción cuando ocurrió el accidente?\n",
    "\n",
    "* Compare la relación entre género y razones de viaje.\n",
    "\n",
    "* ¿Cómo influye el equipamiento de seguridad en la gravedad del accidente?"
   ]
  },
  {
   "cell_type": "markdown",
   "metadata": {},
   "source": [
    "## Datos de los usuarios"
   ]
  },
  {
   "cell_type": "code",
   "execution_count": 16,
   "metadata": {
    "collapsed": true
   },
   "outputs": [],
   "source": [
    "users = {}\n",
    "f = open(\"users.csv\")\n",
    "items = f.readline().replace(\"\\\"\",\"\").replace(\"\\n\",\"\").split(\",\")\n",
    "items_lenght = len(items)\n",
    "for item in items:\n",
    "    users[item] = []\n",
    "# print(users)\n",
    "\n",
    "for data in f:\n",
    "    data = data.replace(\"\\\"\",\"\").replace(\"\\n\",\"\").split(\",\")\n",
    "    if \"NA\" in data:\n",
    "        continue\n",
    "    for i in range(items_lenght):\n",
    "        users[items[i]].append(data[i])\n",
    "f.close()\n",
    "\n",
    "users_dumps = json.dumps(users)\n",
    "f = open(\"users_cleaned.json\",\"w\")\n",
    "f.write(users_dumps)\n",
    "f.close()"
   ]
  },
  {
   "cell_type": "markdown",
   "metadata": {},
   "source": [
    "#### Decodificadores de datos"
   ]
  },
  {
   "cell_type": "code",
   "execution_count": null,
   "metadata": {
    "collapsed": true
   },
   "outputs": [],
   "source": [
    "Acc_number: Accident identifier.\n",
    "\n",
    "Num_Veh: Identification of the vehicle taken back for each user occupying this vehicle (including pedestrians who are attached to the vehicles that hit them)\n",
    "\n",
    "place: Allows to locate the place occupied in the vehicle by the user at the time of the accident    \n",
    "\n",
    "catu: User category:\n",
    "    1 - Driver\n",
    "    2 - Passenger\n",
    "    3 - Pedestrian\n",
    "    4 - Pedestrian in rollerblade or scooter\n",
    "\n",
    "grav: Severity of the accident: The injured users are classified into three categories of victims plus the uninjured\n",
    "    1 - Unscathed\n",
    "    2 - Killed\n",
    "    3 - Hospitalized wounded\n",
    "    4 - Light injury\n",
    "\n",
    "sex: Sex of the user\n",
    "    1 - Male\n",
    "    2 - Female\n",
    "\n",
    "Year_on: Year of birth of the user\n",
    "\n",
    "trip: Reason for traveling at the time of the accident:\n",
    "    1 - Home - work\n",
    "    2 - Home - school\n",
    "    3 - Shopping - Shopping\n",
    "    4 - Professional use\n",
    "    5 - Promenade - leisure\n",
    "    9 - Other\n",
    "\n",
    "secu: on 2 characters: \n",
    "    the first concerns the existence of a safety equipment\n",
    "        1 - Belt\n",
    "        2 - Helmet\n",
    "        3 - Children's device\n",
    "        4 - Reflective equipment\n",
    "        9 - Other\n",
    "    the second is the use of Safety Equipment\n",
    "        1 - Yes\n",
    "        2 - No\n",
    "        3 - Not determinable\n",
    "\n",
    "locp: Location of the pedestrian:\n",
    "    On pavement:\n",
    "        1 - A + 50 m from the pedestrian crossing\n",
    "        2 - A - 50 m from the pedestrian crossing\n",
    "    On pedestrian crossing:\n",
    "        3 - Without light signaling\n",
    "        4 - With light signaling\n",
    "    Various:\n",
    "        5 - On the sidewalk\n",
    "        6 - On the verge\n",
    "        7 - On refuge or BAU\n",
    "        8 - On against aisle\n",
    "\n",
    "actp: Action of the pedestrian: Moving\n",
    "    0 - not specified or not applicable\n",
    "    1 - Meaning bumping vehicle\n",
    "    2 - Opposite direction of the vehicle Various\n",
    "    3 - Crossing\n",
    "    4 - Masked\n",
    "    5 - Playing - running\n",
    "    6 - With animal\n",
    "    9 - Other\n",
    "\n",
    "etatp: This variable is used to specify whether the injured pedestrian was alone or not\n",
    "    1 - Only\n",
    "    2 - Accompanied\n",
    "    3 - In a group"
   ]
  },
  {
   "cell_type": "markdown",
   "metadata": {},
   "source": [
    "## Datos de los vehiculos"
   ]
  },
  {
   "cell_type": "code",
   "execution_count": 18,
   "metadata": {
    "collapsed": true
   },
   "outputs": [],
   "source": [
    "vehicles = {}\n",
    "f = open(\"vehicles.csv\")\n",
    "items = f.readline().replace(\"\\\"\",\"\").replace(\"\\n\",\"\").split(\",\")\n",
    "items_lenght = len(items)\n",
    "for item in items:\n",
    "    vehicles[item] = []\n",
    "# print(vehicles)\n",
    "\n",
    "for data in f:\n",
    "    data = data.replace(\"\\\"\",\"\").replace(\"\\n\",\"\").split(\",\")\n",
    "    if \"NA\" in data:\n",
    "        continue\n",
    "    for i in range(items_lenght):\n",
    "        vehicles[items[i]].append(data[i])\n",
    "f.close()\n",
    "\n",
    "vehicles_dumps = json.dumps(vehicles)\n",
    "f = open(\"vehicles_cleaned.json\",\"w\")\n",
    "f.write(vehicles_dumps)\n",
    "f.close()"
   ]
  },
  {
   "cell_type": "markdown",
   "metadata": {},
   "source": [
    "#### Decodificadores de datos"
   ]
  },
  {
   "cell_type": "code",
   "execution_count": null,
   "metadata": {
    "collapsed": true
   },
   "outputs": [],
   "source": [
    "Num_Acc Accident ID\n",
    "\n",
    "Num_Veh Identification of the vehicle taken back for each user occupying this vehicle (including pedestrians who are attached to vehicles that hit them) - alphanumeric code\n",
    "\n",
    "GP Flow direction :\n",
    "    1 - PK or PR or increasing postal address number\n",
    "    2 - PK or PR or descending postal address number\n",
    "\n",
    "CATV Category of vehicle:\n",
    "    01 - Bicycle\n",
    "    02 - Moped <50cm3\n",
    "    03 - Cart (Quadricycle with bodied motor) (formerly \"cart or motor tricycle\")\n",
    "    04 - Not used since 2006 (registered scooter)\n",
    "    05 - Not used since 2006 (motorcycle)\n",
    "    06 - Not used since 2006 (side-car)\n",
    "    07 - VL only\n",
    "    08 - Not used category (VL + caravan)\n",
    "    09 - Not used category (VL + trailer)\n",
    "    10 - VU only 1,5T <= GVW <= 3,5T with or without trailer (formerly VU only 1,5T <= GVW <= 3,5T)\n",
    "    11 - Most used since 2006 (VU (10) + caravan)\n",
    "    12 - Most used since 2006 (VU (10) + trailer)\n",
    "    13 - PL only 3,5T"
   ]
  }
 ],
 "metadata": {
  "kernelspec": {
   "display_name": "Python 3",
   "language": "python",
   "name": "python3"
  },
  "language_info": {
   "codemirror_mode": {
    "name": "ipython",
    "version": 3
   },
   "file_extension": ".py",
   "mimetype": "text/x-python",
   "name": "python",
   "nbconvert_exporter": "python",
   "pygments_lexer": "ipython3",
   "version": "3.7.3"
  }
 },
 "nbformat": 4,
 "nbformat_minor": 2
}
