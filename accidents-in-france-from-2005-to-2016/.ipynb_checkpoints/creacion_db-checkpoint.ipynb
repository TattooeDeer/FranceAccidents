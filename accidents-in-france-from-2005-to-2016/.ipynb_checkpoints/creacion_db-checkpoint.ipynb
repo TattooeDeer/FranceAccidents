{
 "cells": [
  {
   "cell_type": "markdown",
   "metadata": {},
   "source": [
    "## Preguntas"
   ]
  },
  {
   "cell_type": "markdown",
   "metadata": {},
   "source": [
    "* ¿Qué relaciones existen entre la edad de los peatones su localización/acción cuando ocurrió el accidente?\n",
    "\n",
    "* Compare la relación entre género y razones de viaje.\n",
    "\n",
    "* ¿Cómo influye el equipamiento de seguridad en la gravedad del accidente?"
   ]
  },
  {
   "cell_type": "code",
   "execution_count": 1,
   "metadata": {
    "scrolled": false
   },
   "outputs": [],
   "source": [
    "import json\n",
    "import happybase\n",
    "from pprint import pprint\n",
    "from datetime import date "
   ]
  },
  {
   "cell_type": "code",
   "execution_count": 2,
   "metadata": {
    "scrolled": false
   },
   "outputs": [],
   "source": [
    "def reconect():\n",
    "    global connection\n",
    "    try:\n",
    "        connection.tables()\n",
    "    except:\n",
    "        connection = happybase.Connection('localhost')\n",
    "        connection.open()\n",
    "        print(\"reconected\\n\")\n",
    "        \n",
    "def create_table(name, dict_families):\n",
    "    if name.encode('UTF-8') in connection.tables():\n",
    "        connection.delete_table(name.encode('UTF-8'), True)\n",
    "    connection.create_table(\n",
    "        name,\n",
    "        dict_families\n",
    "    )\n",
    "        \n",
    "def drop_database():\n",
    "    for table in connection.tables():\n",
    "        connection.delete_table(table, True)\n",
    "        print(table,\"droped\")\n",
    "    print(\"database drop complete\\n\")\n",
    "\n",
    "def add_family_data(table, row_key, column_family, column_names, values):\n",
    "    column_data = {}\n",
    "    row_key = row_key.encode('UTF-8')\n",
    "    for i in range(len(column_names)):\n",
    "        column = (column_family+':'+column_names[i]).encode('UTF-8')\n",
    "        value = values[i].encode('UTF-8')\n",
    "        column_data[column] = value\n",
    "\n",
    "    table.put(row_key, column_data)"
   ]
  },
  {
   "cell_type": "markdown",
   "metadata": {},
   "source": [
    "### Creacion de tablas iniciales"
   ]
  },
  {
   "cell_type": "code",
   "execution_count": 9,
   "metadata": {},
   "outputs": [
    {
     "name": "stdout",
     "output_type": "stream",
     "text": [
      "b'actions_location' droped\n",
      "b'enviromental_relevance' droped\n",
      "b'safety_consequences' droped\n",
      "database drop complete\n",
      "\n",
      "[b'actions_location', b'enviromental_relevance', b'safety_consequences']\n"
     ]
    }
   ],
   "source": [
    "reconect()\n",
    "\n",
    "drop_database()\n",
    "\n",
    "create_table('actions_location', {'User': dict(), 'Situational': dict(), 'Date': dict()})\n",
    "create_table('safety_consequences', {'Severity': dict(), 'Situational': dict(), 'User': dict(), 'Date': dict()})\n",
    "create_table('enviromental_relevance', {'Enviroment': dict(), 'Place': dict(), 'Severity': dict()})\n",
    "\n",
    "print(connection.tables())"
   ]
  },
  {
   "cell_type": "markdown",
   "metadata": {},
   "source": [
    "## Ultra Table"
   ]
  },
  {
   "cell_type": "code",
   "execution_count": null,
   "metadata": {
    "scrolled": false
   },
   "outputs": [
    {
     "name": "stdout",
     "output_type": "stream",
     "text": [
      "reconected\n",
      "\n"
     ]
    }
   ],
   "source": [
    "ultratable = {}\n",
    "f = open(\"UltraTable.csv\")\n",
    "items = f.readline().replace(\"\\\"\",\"\").replace(\"\\n\",\"\").replace(\"\\ufeff\",\"\").split(\",\")\n",
    "items_lenght = len(items)\n",
    "for item in items:\n",
    "    ultratable[item] = []\n",
    "# print(users)\n",
    "\n",
    "reconect()\n",
    "actions_location_table = connection.table(b'actions_location')\n",
    "safety_consequences_table = connection.table(b'safety_consequences')\n",
    "enviromental_relevance_table = connection.table(b'enviromental_relevance')\n",
    "\n",
    "# for data in range(2):\n",
    "#     data = f.readline().replace(\"\\\"\",\"\").replace(\"\\n\",\"\").split(\",\")\n",
    "for data in f:\n",
    "    data = data.replace(\"\\\"\",\"\").replace(\"\\n\",\"\").split(\",\")\n",
    "    dict_data = dict(zip(items, data))\n",
    "    \n",
    "    ############################## BORRAR ESTO #################################\n",
    "    #hace falta la variable, trip en ek UltraTable\n",
    "    dict_data['trip'] = \"Some Reason\"\n",
    "    ############################## BORRAR ESTO #################################\n",
    "    \n",
    "#     pprint(dict_data)\n",
    "#     print(\"\")\n",
    "\n",
    "    row_key = str(i)\n",
    "    \n",
    "    timestamp = '20'+dict_data['an'].zfill(2)+dict_data['mois'].zfill(2)+dict_data['jour'].zfill(2)+dict_data['hrmn']\n",
    "    \n",
    "    days_in_year = 365.2425\n",
    "    accident_date = date(int('20'+dict_data['an'].zfill(2)), int(dict_data['mois']), int(dict_data['jour']))\n",
    "    bdsplit = dict_data['year_on'].split(\"-\")\n",
    "    birth_date = date(int(bdsplit[2]), int(bdsplit[1]), int(bdsplit[0]))\n",
    "    age = int((accident_date - birth_date).days / days_in_year)\n",
    "    \n",
    "    secu_dict_1 = {'1': 'Belt', '2': 'Helmet', '3': \"Children's device\", '4': 'Reflective equipment', '9': 'Other'}\n",
    "    secu_dict_2 = {'2': 'No safety equipment', '3': 'Not determinable'}\n",
    "    if len(dict_data['secu']) < 2:\n",
    "        secu = 'Not determinable'\n",
    "    elif dict_data['secu'][1] == '1': #si el segundo caracter es 1, si se usaba seguridad\n",
    "        secu = secu_dict_1[dict_data['secu'][0]]\n",
    "    else:\n",
    "        secu = secu_dict_2[dict_data['secu'][1]]\n",
    "\n",
    "    # actions_location_table\n",
    "    add_family_data(actions_location_table, \n",
    "                    row_key, \n",
    "                    'User',\n",
    "                    ['age', 'sex'],\n",
    "                    [str(age), dict_data['sexe']])\n",
    "\n",
    "    add_family_data(actions_location_table, \n",
    "                    row_key, \n",
    "                    'Situational',\n",
    "                    ['loc_ped', 'action_ped', 'trip_reason'],\n",
    "                    [dict_data['locp'], dict_data['actp'], dict_data['trip']])\n",
    "\n",
    "    add_family_data(actions_location_table, \n",
    "                    row_key, \n",
    "                    'Date',\n",
    "                    ['timestamp'],\n",
    "                    [timestamp])\n",
    "\n",
    "    # safety_consequences_table\n",
    "    add_family_data(safety_consequences_table,\n",
    "                   row_key,\n",
    "                   'Severity',\n",
    "                   ['severity'],\n",
    "                   [dict_data['grav']])\n",
    "\n",
    "    add_family_data(safety_consequences_table,\n",
    "                   row_key,\n",
    "                   'Situational',\n",
    "                   ['safety_equip'],\n",
    "                   [secu])\n",
    "\n",
    "    add_family_data(safety_consequences_table,\n",
    "                   row_key,\n",
    "                   'User',\n",
    "                   ['age', 'user_category'],\n",
    "                   [str(age), dict_data['catu']])\n",
    "\n",
    "    add_family_data(safety_consequences_table,\n",
    "                   row_key,\n",
    "                   'Date',\n",
    "                   ['timestamp'],\n",
    "                   [timestamp])\n",
    "    \n",
    "    #enviromental_relevance_table\n",
    "    add_family_data(enviromental_relevance_table,\n",
    "                   row_key,\n",
    "                   'Enviroment',\n",
    "                   ['atmospheric_conds', 'luminosity', 'surface_cond'],\n",
    "                   [dict_data['atm_decoded'], dict_data['lum_decoded'], dict_data['surf_decoded']])\n",
    "    \n",
    "    add_family_data(enviromental_relevance_table,\n",
    "                   row_key,\n",
    "                   'Place',\n",
    "                   ['road_category', 'plan'],\n",
    "                   ['int_decoded', 'plan_decoded'])\n",
    "    \n",
    "    add_family_data(enviromental_relevance_table,\n",
    "                   row_key,\n",
    "                   'Severity',\n",
    "                   ['severity'],\n",
    "                   [dict_data['grav']])\n",
    "\n",
    "f.close()\n",
    "\n",
    "print(\"done\")\n",
    "\n",
    "# for key, data in actions_location_table.scan():\n",
    "#     print(key, data)\n",
    "# for key, data in safety_consequences_table.scan():\n",
    "#     print(key, data)\n",
    "# for key, data in enviromental_relevance_table.scan():\n",
    "#     print(key, data)\n",
    "\n",
    "# users_dumps = json.dumps(users)\n",
    "# f = open(\"users_cleaned.json\",\"w\")\n",
    "# f.write(users_dumps)\n",
    "# f.close()"
   ]
  },
  {
   "cell_type": "code",
   "execution_count": null,
   "metadata": {},
   "outputs": [],
   "source": []
  }
 ],
 "metadata": {
  "kernelspec": {
   "display_name": "Python 3",
   "language": "python",
   "name": "python3"
  },
  "language_info": {
   "codemirror_mode": {
    "name": "ipython",
    "version": 3
   },
   "file_extension": ".py",
   "mimetype": "text/x-python",
   "name": "python",
   "nbconvert_exporter": "python",
   "pygments_lexer": "ipython3",
   "version": "3.7.3"
  }
 },
 "nbformat": 4,
 "nbformat_minor": 2
}
